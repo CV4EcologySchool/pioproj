{
 "cells": [
  {
   "cell_type": "markdown",
   "metadata": {
    "id": "4gkvoDLGRAbJ"
   },
   "source": [
    "# Prompt 1: Visualize statistics of your data\n",
    "\n",
    "Build useful visualizations of the statistics of your data. How many images or videos do you have? What distribution of categories of interest exist in your data? When was the data collected? Are there multiple types or modalities of data?"
   ]
  },
  {
   "cell_type": "markdown",
   "metadata": {},
   "source": [
    "# Important Notes about quad names\n",
    "\n",
    "**Standardized Format:**\n",
    "S_DDdddQQ_qq_ZZ_R_YYYYMMDD_yyyymmdd\n",
    "\n",
    "S = Sensor Type \n",
    "\n",
    "DDddd = SE Reference point of 1 Degree Block (Latitude = DD, Longitude = ddd)\n",
    "\n",
    "QQ = Quad location (range 1 -64)\n",
    "\n",
    "qq = Quadrant indicator (NE, NW, SE, SW)\n",
    "\n",
    "ZZ = UTM Zone*\n",
    "\n",
    "R = Resolution in meters\n",
    "\n",
    "YYYYMMDD = Acquisition date (year, month, day)\n",
    "\n",
    "yyyymmdd = Date NAIP JPG2000 data was created (year, month, day)\n",
    "\n",
    "**Format for 2019 WY Imagery from GEE:**\n",
    "S_DDdddQQ_qq_ZZ_R_YYYYMMDD_yyyymmdd\n",
    "\n",
    "S = Sensor Type (m)\n",
    "\n",
    "DDddd = SE Reference point of 1 Degree Block (Latitude = DD, Longitude = ddd)\n",
    "\n",
    "QQ = Quad location (range 1 -64)\n",
    "\n",
    "qq = Quadrant indicator (NE, NW, SE, SW)\n",
    "\n",
    "ZZ = UTM Zone* (12 or 13)\n",
    "\n",
    "R = Resolution in meters (060 = 0.60 m)\n",
    "\n",
    "YYYYMMDD = Acquisition date (year, month, day)\n",
    "\n",
    "\n",
    "**My images have an added number at the end: _XXXX = cell number from a grid of cells created over each USGS quarter quad**\n",
    "(quad number range from 0 to several thousand, so the last number can have 1-4 digits)"
   ]
  },
  {
   "cell_type": "markdown",
   "metadata": {
    "id": "Zxa8dogQRP3c"
   },
   "source": [
    "First import useful packages"
   ]
  },
  {
   "cell_type": "code",
   "execution_count": null,
   "metadata": {
    "id": "jIxKJU6eQ6Oi"
   },
   "outputs": [
    {
     "ename": "",
     "evalue": "",
     "output_type": "error",
     "traceback": [
      "\u001b[1;31mRunning cells with 'Python 3.8.2 64-bit' requires ipykernel package.\n",
      "\u001b[1;31mRun the following command to install 'ipykernel' into the Python environment. \n",
      "\u001b[1;31mCommand: '/bin/python3 -m pip install ipykernel -U --user --force-reinstall'"
     ]
    }
   ],
   "source": [
    "import json\n",
    "import matplotlib.pyplot as plt\n",
    "import numpy as np\n",
    "import pandas as pd\n",
    "import os"
   ]
  },
  {
   "cell_type": "markdown",
   "metadata": {},
   "source": []
  },
  {
   "cell_type": "markdown",
   "metadata": {
    "id": "YqSi71ZoRjbT"
   },
   "source": [
    "Load COCO labels and visualize some high-level statistics of the dataset."
   ]
  },
  {
   "cell_type": "code",
   "execution_count": 382,
   "metadata": {
    "id": "MMItRtaiRpfG"
   },
   "outputs": [],
   "source": [
    "with open('/mnt/c/Users/rache/Dropbox/Doctoral Projects/CV4Ecology 2022/Final Images/final_labels_20220801.json') as f:\n",
    "  metadata = json.load(f)"
   ]
  },
  {
   "cell_type": "markdown",
   "metadata": {
    "id": "SumfwS3sRr8r"
   },
   "source": [
    "Read .json data (hopefully)"
   ]
  },
  {
   "cell_type": "code",
   "execution_count": 383,
   "metadata": {
    "id": "eDjsQtzlRunF"
   },
   "outputs": [],
   "source": [
    "images = metadata['images']\n",
    "annotations = metadata['annotations']\n",
    "train_categories = set([ann['category_id'] for ann in annotations])\n",
    "categories = [cat for cat in metadata['categories'] if cat['id'] in train_categories]\n",
    "im_to_cat = {ann['image_id']: ann['category_id'] for ann in annotations}"
   ]
  },
  {
   "cell_type": "code",
   "execution_count": 384,
   "metadata": {},
   "outputs": [
    {
     "data": {
      "text/plain": [
       "[{'id': 0, 'name': 'piosphere', 'supercategory': 'piosphere'},\n",
       " {'id': 1, 'name': 'tank', 'supercategory': 'tank'}]"
      ]
     },
     "execution_count": 384,
     "metadata": {},
     "output_type": "execute_result"
    }
   ],
   "source": [
    "categories"
   ]
  },
  {
   "cell_type": "code",
   "execution_count": 385,
   "metadata": {
    "colab": {
     "base_uri": "https://localhost:8080/"
    },
    "id": "oW4CdA-0Ryfq",
    "outputId": "1a4705f7-7e1d-4c0f-ae23-c07b341e5305",
    "scrolled": true
   },
   "outputs": [
    {
     "name": "stdout",
     "output_type": "stream",
     "text": [
      "High-level statistics:\n",
      "\n",
      "Total images: 1801\n",
      "Categories: 2\n",
      "Annotations: 1651\n",
      "Piospheres: 861\n",
      "Water tanks: 790\n",
      "Empty images: 1033\n"
     ]
    }
   ],
   "source": [
    "print('High-level statistics:\\n')\n",
    "print('Total images: '+str(len(images)))\n",
    "print('Categories: '+str(len(categories)))\n",
    "print('Annotations: '+str(len(annotations)))\n",
    "print('Piospheres: '+str(len([ann['id'] for ann in annotations if ann['category_id'] == 0])))\n",
    "print('Water tanks: '+str(len([ann['id'] for ann in annotations if ann['category_id'] == 1])))\n",
    "print('Empty images: 1033')"
   ]
  },
  {
   "cell_type": "code",
   "execution_count": 8,
   "metadata": {
    "scrolled": false
   },
   "outputs": [],
   "source": [
    "#find a file ends with .png in Piosphere images\n",
    "import os\n",
    "x = os.listdir(r\"/mnt/c/Users/rache/Dropbox/Doctoral Projects/CV4Ecology 2022/Final Images/Obsolete/Piospheres\")\n",
    "\n",
    "# Name list\n",
    "namelist = []\n",
    "for i in x:\n",
    "    if i.endswith(\".png\"):\n",
    "        namelist.append(i)\n",
    "        \n",
    "# Look at list\n",
    "#namelist"
   ]
  },
  {
   "cell_type": "code",
   "execution_count": 57,
   "metadata": {},
   "outputs": [
    {
     "data": {
      "text/plain": [
       "['m', '4010402', 'nw', '13', '060', '20190824', '206.png']"
      ]
     },
     "execution_count": 57,
     "metadata": {},
     "output_type": "execute_result"
    }
   ],
   "source": [
    "namelist[1].split(\"_\")"
   ]
  },
  {
   "cell_type": "code",
   "execution_count": 21,
   "metadata": {},
   "outputs": [
    {
     "name": "stdout",
     "output_type": "stream",
     "text": [
      "Number of unique dates: 32\n",
      "Number of unique USGS quads: 263\n"
     ]
    }
   ],
   "source": [
    "# Set up some empty lists for storing information\n",
    "dateList = []\n",
    "sensorList = []\n",
    "resolutionList = []\n",
    "quadlist = []\n",
    "\n",
    "for i in range(0,len(namelist)):\n",
    "  thisName = namelist[i]\n",
    "  thisName = thisName.replace('.png','')\n",
    "  splitName = thisName.split(\"_\")\n",
    "  dateList.append(splitName[5])\n",
    "  sensorList.append(splitName[0])\n",
    "  resolutionList.append(splitName[4])\n",
    "  quadlist.append(splitName[1])\n",
    "\n",
    "# Find number of unique dates\n",
    "uniqueDates = len(np.unique(dateList))\n",
    "print(\"Number of unique dates: \" + str(uniqueDates))\n",
    "print(\"Number of unique USGS quads: \" + str(len(np.unique(quadlist))))"
   ]
  },
  {
   "cell_type": "code",
   "execution_count": 58,
   "metadata": {},
   "outputs": [
    {
     "data": {
      "text/plain": [
       "20190709      6\n",
       "20190710     18\n",
       "20190711    121\n",
       "20190712     15\n",
       "20190718     55\n",
       "20190719      9\n",
       "20190720      6\n",
       "20190722      2\n",
       "20190723     54\n",
       "20190725     11\n",
       "20190726     11\n",
       "20190728      4\n",
       "20190729      1\n",
       "20190731     58\n",
       "20190803     23\n",
       "20190806      3\n",
       "20190812     32\n",
       "20190813     14\n",
       "20190819      3\n",
       "20190821     19\n",
       "20190824      9\n",
       "20190825     10\n",
       "20190826      3\n",
       "20190827      2\n",
       "20190828     46\n",
       "20190829     76\n",
       "20190831     85\n",
       "20190901     25\n",
       "20190902      1\n",
       "20190913     42\n",
       "20190914      3\n",
       "20190926      1\n",
       "dtype: int64"
      ]
     },
     "execution_count": 58,
     "metadata": {},
     "output_type": "execute_result"
    }
   ],
   "source": [
    "# Get summary information of list\n",
    "dateSeries = pd.Series(dateList)\n",
    "ind = dateSeries.value_counts()\n",
    "ind.sort_index()"
   ]
  },
  {
   "cell_type": "code",
   "execution_count": 11,
   "metadata": {
    "scrolled": false
   },
   "outputs": [],
   "source": [
    "#find a file ends with .png in Nonpiosphere images\n",
    "import os\n",
    "x = os.listdir(r\"/mnt/c/Users/rache/Dropbox/Doctoral Projects/CV4Ecology 2022/Final Images/Obsolete/Nonpiospheres\")\n",
    "\n",
    "# Name list\n",
    "namelist1 = []\n",
    "for i in x:\n",
    "    if i.endswith(\".png\"):\n",
    "        namelist1.append(i)\n",
    "        \n",
    "# Look at list\n",
    "#namelist"
   ]
  },
  {
   "cell_type": "code",
   "execution_count": 17,
   "metadata": {},
   "outputs": [
    {
     "data": {
      "text/plain": [
       "['m', '4010404', 'ne', '13', '060', '20190919', '465.png']"
      ]
     },
     "execution_count": 17,
     "metadata": {},
     "output_type": "execute_result"
    }
   ],
   "source": [
    "namelist1[1].split(\"_\")"
   ]
  },
  {
   "cell_type": "code",
   "execution_count": 20,
   "metadata": {},
   "outputs": [
    {
     "name": "stdout",
     "output_type": "stream",
     "text": [
      "Number of unique dates: 42\n",
      "Number of unique USGS quads: 801\n"
     ]
    }
   ],
   "source": [
    "# Set up some empty lists for storing information\n",
    "dateList1 = []\n",
    "sensorList1 = []\n",
    "resolutionList1 = []\n",
    "quadlist1 = []\n",
    "\n",
    "for i in range(0,len(namelist1)):\n",
    "  thisName = namelist1[i]\n",
    "  thisName = thisName.replace('.png','')\n",
    "  splitName = thisName.split(\"_\")\n",
    "  dateList1.append(splitName[5])\n",
    "  sensorList1.append(splitName[0])\n",
    "  resolutionList1.append(splitName[4])\n",
    "  quadlist1.append(splitName[1])\n",
    "\n",
    "# Find number of unique dates\n",
    "uniqueDates1 = len(np.unique(dateList1))\n",
    "print(\"Number of unique dates: \" + str(uniqueDates1))\n",
    "print(\"Number of unique USGS quads: \" + str(len(np.unique(quadlist1))))"
   ]
  },
  {
   "cell_type": "code",
   "execution_count": 59,
   "metadata": {},
   "outputs": [
    {
     "data": {
      "text/plain": [
       "20190709    26\n",
       "20190710    33\n",
       "20190711    71\n",
       "20190712    35\n",
       "20190718    70\n",
       "20190719    35\n",
       "20190720    23\n",
       "20190722    24\n",
       "20190723    70\n",
       "20190725     8\n",
       "20190726     5\n",
       "20190728    40\n",
       "20190729    16\n",
       "20190731     7\n",
       "20190802    18\n",
       "20190803    14\n",
       "20190805     5\n",
       "20190806     9\n",
       "20190809     8\n",
       "20190812    73\n",
       "20190813    50\n",
       "20190814     6\n",
       "20190815    17\n",
       "20190818    19\n",
       "20190819    15\n",
       "20190821    14\n",
       "20190824     4\n",
       "20190825     6\n",
       "20190826    71\n",
       "20190827    46\n",
       "20190828    50\n",
       "20190829    46\n",
       "20190831    29\n",
       "20190901    12\n",
       "20190902     6\n",
       "20190913    35\n",
       "20190914     6\n",
       "20190918     3\n",
       "20190919     2\n",
       "20190924     4\n",
       "20190926     1\n",
       "20191003     1\n",
       "dtype: int64"
      ]
     },
     "execution_count": 59,
     "metadata": {},
     "output_type": "execute_result"
    }
   ],
   "source": [
    "# Get summary information of list\n",
    "dateSeries1 = pd.Series(dateList1)\n",
    "ind1 = dateSeries1.value_counts()\n",
    "ind1.sort_index()"
   ]
  },
  {
   "cell_type": "code",
   "execution_count": 64,
   "metadata": {
    "scrolled": false
   },
   "outputs": [
    {
     "data": {
      "text/plain": [
       "<AxesSubplot:>"
      ]
     },
     "execution_count": 64,
     "metadata": {},
     "output_type": "execute_result"
    },
    {
     "data": {
      "image/png": "[encoded data removed]",
      "text/plain": [
       "<Figure size 432x288 with 1 Axes>"
      ]
     },
     "metadata": {
      "needs_background": "light"
     },
     "output_type": "display_data"
    }
   ],
   "source": [
    "# Compare dates between labeled and unlabeled data--concatenate lists and count repeats\n",
    "alldates = list(set(dateList)) + list(set(dateList1))\n",
    "\n",
    "# Get summary information of complete list\n",
    "alldates_series = pd.Series(alldates)\n",
    "finalIndex = alldates_series.value_counts()\n",
    "finalIndex.index\n",
    "\n",
    "# 1 = nonpio only; 2 = pio + nonpio\n",
    "finalIndex.hist()"
   ]
  },
  {
   "cell_type": "code",
   "execution_count": 51,
   "metadata": {},
   "outputs": [
    {
     "data": {
      "text/html": [
       "<div>\n",
       "<style scoped>\n",
       "    .dataframe tbody tr th:only-of-type {\n",
       "        vertical-align: middle;\n",
       "    }\n",
       "\n",
       "    .dataframe tbody tr th {\n",
       "        vertical-align: top;\n",
       "    }\n",
       "\n",
       "    .dataframe thead th {\n",
       "        text-align: right;\n",
       "    }\n",
       "</style>\n",
       "<table border=\"1\" class=\"dataframe\">\n",
       "  <thead>\n",
       "    <tr style=\"text-align: right;\">\n",
       "      <th></th>\n",
       "      <th>Piosphere_images</th>\n",
       "      <th>Nonpiosphere_images</th>\n",
       "    </tr>\n",
       "  </thead>\n",
       "  <tbody>\n",
       "    <tr>\n",
       "      <th>20190709</th>\n",
       "      <td>6.0</td>\n",
       "      <td>26</td>\n",
       "    </tr>\n",
       "    <tr>\n",
       "      <th>20190710</th>\n",
       "      <td>18.0</td>\n",
       "      <td>33</td>\n",
       "    </tr>\n",
       "    <tr>\n",
       "      <th>20190711</th>\n",
       "      <td>121.0</td>\n",
       "      <td>71</td>\n",
       "    </tr>\n",
       "    <tr>\n",
       "      <th>20190712</th>\n",
       "      <td>15.0</td>\n",
       "      <td>35</td>\n",
       "    </tr>\n",
       "    <tr>\n",
       "      <th>20190718</th>\n",
       "      <td>55.0</td>\n",
       "      <td>70</td>\n",
       "    </tr>\n",
       "    <tr>\n",
       "      <th>20190719</th>\n",
       "      <td>9.0</td>\n",
       "      <td>35</td>\n",
       "    </tr>\n",
       "    <tr>\n",
       "      <th>20190720</th>\n",
       "      <td>6.0</td>\n",
       "      <td>23</td>\n",
       "    </tr>\n",
       "    <tr>\n",
       "      <th>20190722</th>\n",
       "      <td>2.0</td>\n",
       "      <td>24</td>\n",
       "    </tr>\n",
       "    <tr>\n",
       "      <th>20190723</th>\n",
       "      <td>54.0</td>\n",
       "      <td>70</td>\n",
       "    </tr>\n",
       "    <tr>\n",
       "      <th>20190725</th>\n",
       "      <td>11.0</td>\n",
       "      <td>8</td>\n",
       "    </tr>\n",
       "    <tr>\n",
       "      <th>20190726</th>\n",
       "      <td>11.0</td>\n",
       "      <td>5</td>\n",
       "    </tr>\n",
       "    <tr>\n",
       "      <th>20190728</th>\n",
       "      <td>4.0</td>\n",
       "      <td>40</td>\n",
       "    </tr>\n",
       "    <tr>\n",
       "      <th>20190729</th>\n",
       "      <td>1.0</td>\n",
       "      <td>16</td>\n",
       "    </tr>\n",
       "    <tr>\n",
       "      <th>20190731</th>\n",
       "      <td>58.0</td>\n",
       "      <td>7</td>\n",
       "    </tr>\n",
       "    <tr>\n",
       "      <th>20190802</th>\n",
       "      <td>NaN</td>\n",
       "      <td>18</td>\n",
       "    </tr>\n",
       "    <tr>\n",
       "      <th>20190803</th>\n",
       "      <td>23.0</td>\n",
       "      <td>14</td>\n",
       "    </tr>\n",
       "    <tr>\n",
       "      <th>20190805</th>\n",
       "      <td>NaN</td>\n",
       "      <td>5</td>\n",
       "    </tr>\n",
       "    <tr>\n",
       "      <th>20190806</th>\n",
       "      <td>3.0</td>\n",
       "      <td>9</td>\n",
       "    </tr>\n",
       "    <tr>\n",
       "      <th>20190809</th>\n",
       "      <td>NaN</td>\n",
       "      <td>8</td>\n",
       "    </tr>\n",
       "    <tr>\n",
       "      <th>20190812</th>\n",
       "      <td>32.0</td>\n",
       "      <td>73</td>\n",
       "    </tr>\n",
       "    <tr>\n",
       "      <th>20190813</th>\n",
       "      <td>14.0</td>\n",
       "      <td>50</td>\n",
       "    </tr>\n",
       "    <tr>\n",
       "      <th>20190814</th>\n",
       "      <td>NaN</td>\n",
       "      <td>6</td>\n",
       "    </tr>\n",
       "    <tr>\n",
       "      <th>20190815</th>\n",
       "      <td>NaN</td>\n",
       "      <td>17</td>\n",
       "    </tr>\n",
       "    <tr>\n",
       "      <th>20190818</th>\n",
       "      <td>NaN</td>\n",
       "      <td>19</td>\n",
       "    </tr>\n",
       "    <tr>\n",
       "      <th>20190819</th>\n",
       "      <td>3.0</td>\n",
       "      <td>15</td>\n",
       "    </tr>\n",
       "    <tr>\n",
       "      <th>20190821</th>\n",
       "      <td>19.0</td>\n",
       "      <td>14</td>\n",
       "    </tr>\n",
       "    <tr>\n",
       "      <th>20190824</th>\n",
       "      <td>9.0</td>\n",
       "      <td>4</td>\n",
       "    </tr>\n",
       "    <tr>\n",
       "      <th>20190825</th>\n",
       "      <td>10.0</td>\n",
       "      <td>6</td>\n",
       "    </tr>\n",
       "    <tr>\n",
       "      <th>20190826</th>\n",
       "      <td>3.0</td>\n",
       "      <td>71</td>\n",
       "    </tr>\n",
       "    <tr>\n",
       "      <th>20190827</th>\n",
       "      <td>2.0</td>\n",
       "      <td>46</td>\n",
       "    </tr>\n",
       "    <tr>\n",
       "      <th>20190828</th>\n",
       "      <td>46.0</td>\n",
       "      <td>50</td>\n",
       "    </tr>\n",
       "    <tr>\n",
       "      <th>20190829</th>\n",
       "      <td>76.0</td>\n",
       "      <td>46</td>\n",
       "    </tr>\n",
       "    <tr>\n",
       "      <th>20190831</th>\n",
       "      <td>85.0</td>\n",
       "      <td>29</td>\n",
       "    </tr>\n",
       "    <tr>\n",
       "      <th>20190901</th>\n",
       "      <td>25.0</td>\n",
       "      <td>12</td>\n",
       "    </tr>\n",
       "    <tr>\n",
       "      <th>20190902</th>\n",
       "      <td>1.0</td>\n",
       "      <td>6</td>\n",
       "    </tr>\n",
       "    <tr>\n",
       "      <th>20190913</th>\n",
       "      <td>42.0</td>\n",
       "      <td>35</td>\n",
       "    </tr>\n",
       "    <tr>\n",
       "      <th>20190914</th>\n",
       "      <td>3.0</td>\n",
       "      <td>6</td>\n",
       "    </tr>\n",
       "    <tr>\n",
       "      <th>20190918</th>\n",
       "      <td>NaN</td>\n",
       "      <td>3</td>\n",
       "    </tr>\n",
       "    <tr>\n",
       "      <th>20190919</th>\n",
       "      <td>NaN</td>\n",
       "      <td>2</td>\n",
       "    </tr>\n",
       "    <tr>\n",
       "      <th>20190924</th>\n",
       "      <td>NaN</td>\n",
       "      <td>4</td>\n",
       "    </tr>\n",
       "    <tr>\n",
       "      <th>20190926</th>\n",
       "      <td>1.0</td>\n",
       "      <td>1</td>\n",
       "    </tr>\n",
       "    <tr>\n",
       "      <th>20191003</th>\n",
       "      <td>NaN</td>\n",
       "      <td>1</td>\n",
       "    </tr>\n",
       "  </tbody>\n",
       "</table>\n",
       "</div>"
      ],
      "text/plain": [
       "          Piosphere_images  Nonpiosphere_images\n",
       "20190709               6.0                   26\n",
       "20190710              18.0                   33\n",
       "20190711             121.0                   71\n",
       "20190712              15.0                   35\n",
       "20190718              55.0                   70\n",
       "20190719               9.0                   35\n",
       "20190720               6.0                   23\n",
       "20190722               2.0                   24\n",
       "20190723              54.0                   70\n",
       "20190725              11.0                    8\n",
       "20190726              11.0                    5\n",
       "20190728               4.0                   40\n",
       "20190729               1.0                   16\n",
       "20190731              58.0                    7\n",
       "20190802               NaN                   18\n",
       "20190803              23.0                   14\n",
       "20190805               NaN                    5\n",
       "20190806               3.0                    9\n",
       "20190809               NaN                    8\n",
       "20190812              32.0                   73\n",
       "20190813              14.0                   50\n",
       "20190814               NaN                    6\n",
       "20190815               NaN                   17\n",
       "20190818               NaN                   19\n",
       "20190819               3.0                   15\n",
       "20190821              19.0                   14\n",
       "20190824               9.0                    4\n",
       "20190825              10.0                    6\n",
       "20190826               3.0                   71\n",
       "20190827               2.0                   46\n",
       "20190828              46.0                   50\n",
       "20190829              76.0                   46\n",
       "20190831              85.0                   29\n",
       "20190901              25.0                   12\n",
       "20190902               1.0                    6\n",
       "20190913              42.0                   35\n",
       "20190914               3.0                    6\n",
       "20190918               NaN                    3\n",
       "20190919               NaN                    2\n",
       "20190924               NaN                    4\n",
       "20190926               1.0                    1\n",
       "20191003               NaN                    1"
      ]
     },
     "execution_count": 51,
     "metadata": {},
     "output_type": "execute_result"
    }
   ],
   "source": [
    "# Merge date indices for visualization\n",
    "ind_merge = pd.concat([ind,ind1], axis = 1)\n",
    "ind_merge = ind_merge.rename(columns = {0:'Piosphere_images',1: 'Nonpiosphere_images'})\n",
    "ind_merge.sort_index()"
   ]
  },
  {
   "cell_type": "code",
   "execution_count": 50,
   "metadata": {},
   "outputs": [
    {
     "data": {
      "text/plain": [
       "array([[<AxesSubplot:title={'center':'Piosphere_images'}>,\n",
       "        <AxesSubplot:title={'center':'Nonpiosphere_images'}>]],\n",
       "      dtype=object)"
      ]
     },
     "execution_count": 50,
     "metadata": {},
     "output_type": "execute_result"
    },
    {
     "data": {
      "image/png": "[encoded data removed]",
      "text/plain": [
       "<Figure size 432x288 with 2 Axes>"
      ]
     },
     "metadata": {
      "needs_background": "light"
     },
     "output_type": "display_data"
    }
   ],
   "source": [
    "# Look at histogram of each\n",
    "ind_merge.hist()"
   ]
  },
  {
   "cell_type": "code",
   "execution_count": 52,
   "metadata": {},
   "outputs": [],
   "source": [
    "# Make histogram of number of images per USGS quad\n",
    "quadSeries = pd.Series(quadlist)\n",
    "pio_ind = quadSeries.value_counts()\n",
    "\n",
    "quadSeries1 = pd.Series(quadlist1)\n",
    "nonpio_ind = quadSeries1.value_counts()"
   ]
  },
  {
   "cell_type": "code",
   "execution_count": 54,
   "metadata": {},
   "outputs": [
    {
     "data": {
      "text/html": [
       "<div>\n",
       "<style scoped>\n",
       "    .dataframe tbody tr th:only-of-type {\n",
       "        vertical-align: middle;\n",
       "    }\n",
       "\n",
       "    .dataframe tbody tr th {\n",
       "        vertical-align: top;\n",
       "    }\n",
       "\n",
       "    .dataframe thead th {\n",
       "        text-align: right;\n",
       "    }\n",
       "</style>\n",
       "<table border=\"1\" class=\"dataframe\">\n",
       "  <thead>\n",
       "    <tr style=\"text-align: right;\">\n",
       "      <th></th>\n",
       "      <th>Piosphere_images</th>\n",
       "      <th>Nonpiosphere_images</th>\n",
       "    </tr>\n",
       "  </thead>\n",
       "  <tbody>\n",
       "    <tr>\n",
       "      <th>4310439</th>\n",
       "      <td>27.0</td>\n",
       "      <td>2.0</td>\n",
       "    </tr>\n",
       "    <tr>\n",
       "      <th>4410523</th>\n",
       "      <td>14.0</td>\n",
       "      <td>1.0</td>\n",
       "    </tr>\n",
       "    <tr>\n",
       "      <th>4110533</th>\n",
       "      <td>13.0</td>\n",
       "      <td>1.0</td>\n",
       "    </tr>\n",
       "    <tr>\n",
       "      <th>4410450</th>\n",
       "      <td>13.0</td>\n",
       "      <td>1.0</td>\n",
       "    </tr>\n",
       "    <tr>\n",
       "      <th>4410514</th>\n",
       "      <td>12.0</td>\n",
       "      <td>NaN</td>\n",
       "    </tr>\n",
       "    <tr>\n",
       "      <th>...</th>\n",
       "      <td>...</td>\n",
       "      <td>...</td>\n",
       "    </tr>\n",
       "    <tr>\n",
       "      <th>4210634</th>\n",
       "      <td>NaN</td>\n",
       "      <td>1.0</td>\n",
       "    </tr>\n",
       "    <tr>\n",
       "      <th>4210636</th>\n",
       "      <td>NaN</td>\n",
       "      <td>1.0</td>\n",
       "    </tr>\n",
       "    <tr>\n",
       "      <th>4210643</th>\n",
       "      <td>NaN</td>\n",
       "      <td>1.0</td>\n",
       "    </tr>\n",
       "    <tr>\n",
       "      <th>4210645</th>\n",
       "      <td>NaN</td>\n",
       "      <td>1.0</td>\n",
       "    </tr>\n",
       "    <tr>\n",
       "      <th>4211001</th>\n",
       "      <td>NaN</td>\n",
       "      <td>1.0</td>\n",
       "    </tr>\n",
       "  </tbody>\n",
       "</table>\n",
       "<p>949 rows × 2 columns</p>\n",
       "</div>"
      ],
      "text/plain": [
       "         Piosphere_images  Nonpiosphere_images\n",
       "4310439              27.0                  2.0\n",
       "4410523              14.0                  1.0\n",
       "4110533              13.0                  1.0\n",
       "4410450              13.0                  1.0\n",
       "4410514              12.0                  NaN\n",
       "...                   ...                  ...\n",
       "4210634               NaN                  1.0\n",
       "4210636               NaN                  1.0\n",
       "4210643               NaN                  1.0\n",
       "4210645               NaN                  1.0\n",
       "4211001               NaN                  1.0\n",
       "\n",
       "[949 rows x 2 columns]"
      ]
     },
     "execution_count": 54,
     "metadata": {},
     "output_type": "execute_result"
    }
   ],
   "source": [
    "# Combine pio and nonpio images\n",
    "quad_merge = pd.concat([pio_ind,nonpio_ind], axis = 1)\n",
    "quad_merge = quad_merge.rename(columns = {0:'Piosphere_images',1: 'Nonpiosphere_images'})\n",
    "quad_merge.sort_index()\n",
    "quad_merge"
   ]
  },
  {
   "cell_type": "code",
   "execution_count": 60,
   "metadata": {},
   "outputs": [
    {
     "data": {
      "text/plain": [
       "array([[<AxesSubplot:title={'center':'Piosphere_images'}>,\n",
       "        <AxesSubplot:title={'center':'Nonpiosphere_images'}>]],\n",
       "      dtype=object)"
      ]
     },
     "execution_count": 60,
     "metadata": {},
     "output_type": "execute_result"
    },
    {
     "data": {
      "image/png": "[encoded data removed]",
      "text/plain": [
       "<Figure size 432x288 with 2 Axes>"
      ]
     },
     "metadata": {
      "needs_background": "light"
     },
     "output_type": "display_data"
    }
   ],
   "source": [
    "# Histograms of images per quad\n",
    "quad_merge.hist()"
   ]
  },
  {
   "cell_type": "code",
   "execution_count": 181,
   "metadata": {},
   "outputs": [
    {
     "name": "stdout",
     "output_type": "stream",
     "text": [
      "1801\n"
     ]
    },
    {
     "data": {
      "text/plain": [
       "<AxesSubplot:>"
      ]
     },
     "execution_count": 181,
     "metadata": {},
     "output_type": "execute_result"
    },
    {
     "data": {
      "image/png": "[encoded data removed]",
      "text/plain": [
       "<Figure size 432x288 with 1 Axes>"
      ]
     },
     "metadata": {
      "needs_background": "light"
     },
     "output_type": "display_data"
    }
   ],
   "source": [
    "# Pull out the quad names\n",
    "quadnames = quadlist + quadlist1\n",
    "print(len(quadnames))\n",
    "\n",
    "# Make a list of latitudes + longitudes\n",
    "latitudes = []\n",
    "longitudes = []\n",
    "quadnumbers = []\n",
    "for i in range(0,len(quadnames)):\n",
    "    latitudes.append(quadnames[i][0:2])\n",
    "    longitudes.append(quadnames[i][2:5])\n",
    "    quadnumbers.append(quadnames[i][5:7])\n",
    "\n",
    "pd.Series(latitudes).hist()\n",
    "pd.Series(longitudes).hist()"
   ]
  },
  {
   "cell_type": "code",
   "execution_count": 190,
   "metadata": {
    "scrolled": true
   },
   "outputs": [
    {
     "data": {
      "text/plain": [
       "count    1801.000000\n",
       "mean       31.220433\n",
       "std        18.607966\n",
       "min         1.000000\n",
       "25%        15.000000\n",
       "50%        30.000000\n",
       "75%        48.000000\n",
       "max        64.000000\n",
       "dtype: float64"
      ]
     },
     "execution_count": 190,
     "metadata": {},
     "output_type": "execute_result"
    }
   ],
   "source": [
    "quadnums = pd.Series(quadnumbers).astype(int)\n",
    "quadnums.describe()"
   ]
  },
  {
   "cell_type": "markdown",
   "metadata": {},
   "source": [
    "## Attempt to split data geographically\n",
    "\n",
    "File names contain approximate lat/long information.\n",
    "\n",
    "Note: quad numbers range from 1 to 64\n",
    "\n",
    "**Target splits:\n",
    "\n",
    "    * Train: ~70%\n",
    "    * Test: ~15%\n",
    "    * Val: ~15%"
   ]
  },
  {
   "cell_type": "code",
   "execution_count": 252,
   "metadata": {},
   "outputs": [
    {
     "name": "stdout",
     "output_type": "stream",
     "text": [
      "Train images: 1246 (69.0%)\n",
      "Test images: 284 (15.8%)\n",
      "Val images: 271 (15.0%)\n",
      "Total images: 1801\n",
      "Sum of indices: 1801\n"
     ]
    }
   ],
   "source": [
    "# First test splits:\n",
    "# train: lat > 42 + lat > 41 & long < 106\n",
    "# test: lat = 41 + lat = 42 & long < 106\n",
    "# val: lat = 40\n",
    "\n",
    "# make df of coords\n",
    "coords = pd.DataFrame({'lat': latitudes,'lon': longitudes, 'quad': quadnums})\n",
    "coords.lat = coords.lat.astype(int)\n",
    "coords.lon = coords.lon.astype(int)\n",
    "total_images = len(coords.lat)\n",
    "\n",
    "# try train split\n",
    "train_ind = coords.index[coords.lat.gt(42) | ((coords.lat.gt(41)) & (coords.lon.gt(105)))].tolist()\n",
    "print(\"Train images: \" + str(len(train_ind)) + \" (\" + str(round(len(train_ind)/1801,2)*100) + \"%)\")\n",
    "\n",
    "# try test split\n",
    "# \n",
    "test_ind = coords.index[(coords.lat.eq(41) & coords.quad.lt(20)) | (coords.lat.eq(42) & coords.lon.lt(106))].tolist()\n",
    "print(\"Test images: \" + str(len(test_ind)) + \" (\" + str(round(len(test_ind)/total_images,3)*100) + \"%)\")\n",
    "\n",
    "# try val split\n",
    "val_ind = coords.index[(coords.lat.eq(41) & coords.quad.gt(19)) | coords.lat.eq(40)].tolist()\n",
    "print(\"Val images: \" + str(len(val_ind)) + \" (\" + str(round(len(val_ind)/total_images,3)*100) + \"%)\")\n",
    "\n",
    "# Verify correct number of images\n",
    "print(\"Total images: \" + str(total_images))\n",
    "print(\"Sum of indices: \" + str(len(train_ind + test_ind + val_ind)))"
   ]
  },
  {
   "cell_type": "raw",
   "metadata": {},
   "source": [
    "# Add namelists together\n",
    "imagenames = namelist + namelist1\n",
    "\n",
    "# Create list of names for each data split\n",
    "train_names = [imagenames[i] for i in (train_ind)]\n",
    "test_names = [imagenames[i] for i in (test_ind)]\n",
    "val_names = [imagenames[i] for i in (val_ind)]"
   ]
  },
  {
   "cell_type": "markdown",
   "metadata": {},
   "source": [
    "### Need to create separate .json MS COCO files for each split of the data"
   ]
  },
  {
   "cell_type": "code",
   "execution_count": 345,
   "metadata": {},
   "outputs": [
    {
     "name": "stdout",
     "output_type": "stream",
     "text": [
      "{'height': 256, 'width': 256, 'id': 301, 'file_name': 'm_4310439_ne_13_060_20190711_1717.png'}\n"
     ]
    }
   ],
   "source": [
    "train_namesSeries = pd.Series(train_names)\n",
    "train_namesSeries\n",
    "for i in range(300,301):#len(imagenames)):\n",
    "    if metadata['images'][i]['file_name'] in train_names:\n",
    "        print(metadata['images'][i])\n",
    "    else:\n",
    "        print(\"Not here\")"
   ]
  },
  {
   "cell_type": "code",
   "execution_count": 347,
   "metadata": {},
   "outputs": [
    {
     "ename": "SyntaxError",
     "evalue": "invalid syntax (1705200108.py, line 4)",
     "output_type": "error",
     "traceback": [
      "\u001b[0;36m  Input \u001b[0;32mIn [347]\u001b[0;36m\u001b[0m\n\u001b[0;31m    [x for x in input_dict print(x)]\u001b[0m\n\u001b[0m                           ^\u001b[0m\n\u001b[0;31mSyntaxError\u001b[0m\u001b[0;31m:\u001b[0m invalid syntax\n"
     ]
    }
   ],
   "source": [
    "##print(metadata['images'][1]['file_name'])\n",
    "#([str(metadata['images'][i]['file_name'])])\n",
    "train_names[i]\n"
   ]
  },
  {
   "cell_type": "code",
   "execution_count": 492,
   "metadata": {},
   "outputs": [
    {
     "name": "stdout",
     "output_type": "stream",
     "text": [
      "1246\n",
      "1234\n"
     ]
    }
   ],
   "source": [
    "# FOR TRAINING SET\n",
    "# Transform json input to python objects\n",
    "images_dict = metadata['images']\n",
    "ann_dict = metadata['annotations']\n",
    "cat_dict = metadata['categories']\n",
    "\n",
    "# Filter python objects with list comprehensions\n",
    "images_out = []\n",
    "for x in range(0,len(images_dict)):\n",
    "    if str(images_dict[x]['file_name']) in train_names:\n",
    "        images_out.append(images_dict[x])\n",
    "\n",
    "# Try to grab annotations by 'image_id'\n",
    "img_ids = []\n",
    "for i in range(0,len(images_out)):\n",
    "    img_ids.append(images_out[i]['id'])\n",
    "print(len(img_ids))\n",
    "    \n",
    "ann_out = []\n",
    "for x in range(0,len(ann_dict)):\n",
    "    if ann_dict[x]['image_id'] in img_ids:\n",
    "        ann_out.append(ann_dict[x])\n",
    "print(len(ann_out))\n",
    "    \n",
    "# Transform python object back into json\n",
    "images_json = json.dumps(images_out)\n",
    "ann_json = json.dumps(ann_out)\n",
    "\n",
    "# Combine into one final training json\n",
    "train_dict = {'images':images_out, 'annotations':ann_out, 'categories':cat_dict}\n",
    "train_json = json.dumps(train_dict)\n",
    "\n",
    "# Save file\n",
    "#with open('/mnt/c/code/pioproj/train_annotations.json','w') as train_dumped:\n",
    "#    json.dump(train_json, train_dumped)\n",
    "\n"
   ]
  },
  {
   "cell_type": "code",
   "execution_count": 493,
   "metadata": {},
   "outputs": [
    {
     "name": "stdout",
     "output_type": "stream",
     "text": [
      "284\n",
      "285\n"
     ]
    }
   ],
   "source": [
    "# FOR TEST SET\n",
    "# Transform json input to python objects\n",
    "images_dict = metadata['images']\n",
    "ann_dict = metadata['annotations']\n",
    "cat_dict = metadata['categories']\n",
    "\n",
    "# Filter python objects with list comprehensions\n",
    "images_out = []\n",
    "for x in range(0,len(images_dict)):\n",
    "    if str(images_dict[x]['file_name']) in test_names:\n",
    "        images_out.append(images_dict[x])\n",
    "\n",
    "# Try to grab annotations by 'image_id'\n",
    "img_ids = []\n",
    "for i in range(0,len(images_out)):\n",
    "    img_ids.append(images_out[i]['id'])\n",
    "print(len(img_ids))\n",
    "    \n",
    "ann_out = []\n",
    "for x in range(0,len(ann_dict)):\n",
    "    if ann_dict[x]['image_id'] in img_ids:\n",
    "        ann_out.append(ann_dict[x])\n",
    "print(len(ann_out))\n",
    "        \n",
    "# Transform python object back into json\n",
    "images_json = json.dumps(images_out)\n",
    "ann_json = json.dumps(ann_out)\n",
    "\n",
    "# Combine into one final testing json\n",
    "test_dict = {'images':images_out, 'annotations':ann_out, 'categories':cat_dict}\n",
    "test_json = json.dumps(test_dict)\n",
    "\n",
    "# Save file\n",
    "#with open('/mnt/c/code/pioproj/test_annotations.json','w') as test_dumped:\n",
    "#    json.dump(test_json, test_dumped)\n",
    "\n"
   ]
  },
  {
   "cell_type": "code",
   "execution_count": 502,
   "metadata": {},
   "outputs": [
    {
     "name": "stdout",
     "output_type": "stream",
     "text": [
      "271\n",
      "132\n"
     ]
    }
   ],
   "source": [
    "# FOR VAL SET\n",
    "# Transform json input to python objects\n",
    "images_dict = metadata['images']\n",
    "ann_dict = metadata['annotations']\n",
    "cat_dict = metadata['categories']\n",
    "\n",
    "# Filter python objects with list comprehensions\n",
    "images_out = []\n",
    "for x in range(0,len(images_dict)):\n",
    "    if str(images_dict[x]['file_name']) in val_names:\n",
    "        images_out.append(images_dict[x])\n",
    "\n",
    "# Try to grab annotations by 'image_id'\n",
    "img_ids = []\n",
    "for i in range(0,len(images_out)):\n",
    "    img_ids.append(images_out[i]['id'])\n",
    "print(len(img_ids))\n",
    "    \n",
    "ann_out = []\n",
    "for x in range(0,len(ann_dict)):\n",
    "    if ann_dict[x]['image_id'] in img_ids:\n",
    "        ann_out.append(ann_dict[x])\n",
    "print(len(ann_out))\n",
    "    \n",
    "# Transform python object back into json\n",
    "images_json = json.dumps(images_out)\n",
    "ann_json = json.dumps(ann_out)\n",
    "\n",
    "# Combine into one final valing json\n",
    "val_dict = {'images':images_out, 'annotations':ann_out, 'categories':cat_dict}\n",
    "val_json = json.dumps(val_dict)\n",
    "\n",
    "# Save file\n",
    "#with open('/mnt/c/code/pioproj/val_annotations.json','w') as val_dumped:\n",
    "#    json.dump(val_json, val_dumped)\n",
    "\n"
   ]
  },
  {
   "cell_type": "code",
   "execution_count": 503,
   "metadata": {},
   "outputs": [],
   "source": [
    "# Load all the json files to look at them\n",
    "val_json = json.loads(val_json)\n",
    "test_json = json.loads(test_json)\n",
    "train_json = json.loads(train_json)"
   ]
  },
  {
   "cell_type": "code",
   "execution_count": 499,
   "metadata": {},
   "outputs": [
    {
     "name": "stdout",
     "output_type": "stream",
     "text": [
      "High-level statistics for training set:\n",
      "\n",
      "Total images: 1246\n",
      "Annotations: 1234\n",
      "Piospheres: 615\n",
      "Water tanks: 619\n",
      "Empty images: 681\n"
     ]
    }
   ],
   "source": [
    "# Get statistics for each set\n",
    "print('High-level statistics for training set:\\n')\n",
    "print('Total images: '+str(len(train_json['images'])))\n",
    "print('Annotations: '+str(len(train_json['annotations'])))\n",
    "annotations = train_json['annotations']\n",
    "print('Piospheres: '+str(len([ann['id'] for ann in annotations if ann['category_id'] == 0])))\n",
    "print('Water tanks: '+str(len([ann['id'] for ann in annotations if ann['category_id'] == 1])))\n",
    "print('Empty images: '+str(len(train_json['images']) - len(np.unique([ann['image_id'] for ann in annotations]))))"
   ]
  },
  {
   "cell_type": "code",
   "execution_count": 500,
   "metadata": {},
   "outputs": [
    {
     "name": "stdout",
     "output_type": "stream",
     "text": [
      "High-level statistics for test set:\n",
      "\n",
      "Total images: 284\n",
      "Annotations: 285\n",
      "Piospheres: 171\n",
      "Water tanks: 114\n",
      "Empty images: 151\n"
     ]
    }
   ],
   "source": [
    "# Get statistics for each set\n",
    "print('High-level statistics for test set:\\n')\n",
    "print('Total images: '+str(len(test_json['images'])))\n",
    "print('Annotations: '+str(len(test_json['annotations'])))\n",
    "annotations = test_json['annotations']\n",
    "print('Piospheres: '+str(len([ann['id'] for ann in annotations if ann['category_id'] == 0])))\n",
    "print('Water tanks: '+str(len([ann['id'] for ann in annotations if ann['category_id'] == 1])))\n",
    "print('Empty images: '+str(len(test_json['images']) - len(np.unique([ann['image_id'] for ann in annotations]))))"
   ]
  },
  {
   "cell_type": "code",
   "execution_count": 504,
   "metadata": {},
   "outputs": [
    {
     "name": "stdout",
     "output_type": "stream",
     "text": [
      "High-level statistics for val set:\n",
      "\n",
      "Total images: 271\n",
      "Annotations: 132\n",
      "Piospheres: 75\n",
      "Water tanks: 57\n",
      "Empty images: 201\n"
     ]
    }
   ],
   "source": [
    "# Get statistics for each set\n",
    "print('High-level statistics for val set:\\n')\n",
    "print('Total images: '+str(len(val_json['images'])))\n",
    "print('Annotations: '+str(len(val_json['annotations'])))\n",
    "annotations = val_json['annotations']\n",
    "print('Piospheres: '+str(len([ann['id'] for ann in annotations if ann['category_id'] == 0])))\n",
    "print('Water tanks: '+str(len([ann['id'] for ann in annotations if ann['category_id'] == 1])))\n",
    "print('Empty images: '+str(len(val_json['images']) - len(np.unique([ann['image_id'] for ann in annotations]))))"
   ]
  }
 ],
 "metadata": {
  "colab": {
   "name": "CV4Ecology_Assignment0.ipynb",
   "provenance": []
  },
  "kernelspec": {
   "display_name": "Python 3.8.2 64-bit",
   "language": "python",
   "name": "python3"
  },
  "language_info": {
   "codemirror_mode": {
    "name": "ipython",
    "version": 3
   },
   "file_extension": ".py",
   "mimetype": "text/x-python",
   "name": "python",
   "nbconvert_exporter": "python",
   "pygments_lexer": "ipython3",
   "version": "3.8.2"
  },
  "vscode": {
   "interpreter": {
    "hash": "916dbcbb3f70747c44a77c7bcd40155683ae19c65e1c03b4aa3499c5328201f1"
   }
  }
 },
 "nbformat": 4,
 "nbformat_minor": 1
}
