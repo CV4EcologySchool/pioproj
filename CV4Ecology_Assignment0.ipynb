{
 "cells": [
  {
   "cell_type": "markdown",
   "metadata": {
    "id": "4gkvoDLGRAbJ"
   },
   "source": [
    "#Prompt 1: Visualize statistics of your data\n",
    "\n",
    "Build useful visualizations of the statistics of your data. How many images or videos do you have? What distribution of categories of interest exist in your data? When was the data collected? Are there multiple types or modalities of data?"
   ]
  },
  {
   "cell_type": "markdown",
   "metadata": {
    "id": "Zxa8dogQRP3c"
   },
   "source": [
    "First import useful packages"
   ]
  },
  {
   "cell_type": "code",
   "execution_count": 65,
   "metadata": {
    "id": "jIxKJU6eQ6Oi"
   },
   "outputs": [],
   "source": [
    "import json\n",
    "import matplotlib.pyplot as plt\n",
    "import numpy as np\n",
    "import pandas as pd\n",
    "import os"
   ]
  },
  {
   "cell_type": "markdown",
   "metadata": {
    "id": "YqSi71ZoRjbT"
   },
   "source": [
    "Load COCO labels and visualize some high-level statistics of the dataset."
   ]
  },
  {
   "cell_type": "code",
   "execution_count": 6,
   "metadata": {
    "id": "MMItRtaiRpfG"
   },
   "outputs": [],
   "source": [
    "with open('/mnt/c/Users/rache/Dropbox/Doctoral Projects/CV4Ecology 2022/Final Images/final_labels_20220801.json') as f:\n",
    "  metadata = json.load(f)"
   ]
  },
  {
   "cell_type": "markdown",
   "metadata": {
    "id": "SumfwS3sRr8r"
   },
   "source": [
    "Read .json data (hopefully)"
   ]
  },
  {
   "cell_type": "code",
   "execution_count": 7,
   "metadata": {
    "id": "eDjsQtzlRunF"
   },
   "outputs": [],
   "source": [
    "images = metadata['images']\n",
    "annotations = metadata['annotations']\n",
    "train_categories = set([ann['category_id'] for ann in annotations])\n",
    "categories = [cat for cat in metadata['categories'] if cat['id'] in train_categories]\n",
    "im_to_cat = {ann['image_id']: ann['category_id'] for ann in annotations}"
   ]
  },
  {
   "cell_type": "code",
   "execution_count": 8,
   "metadata": {},
   "outputs": [
    {
     "data": {
      "text/plain": [
       "[{'id': 0, 'name': 'piosphere', 'supercategory': 'piosphere'},\n",
       " {'id': 1, 'name': 'tank', 'supercategory': 'tank'}]"
      ]
     },
     "execution_count": 8,
     "metadata": {},
     "output_type": "execute_result"
    }
   ],
   "source": [
    "categories"
   ]
  },
  {
   "cell_type": "code",
   "execution_count": 10,
   "metadata": {
    "colab": {
     "base_uri": "https://localhost:8080/"
    },
    "id": "oW4CdA-0Ryfq",
    "outputId": "1a4705f7-7e1d-4c0f-ae23-c07b341e5305",
    "scrolled": true
   },
   "outputs": [
    {
     "name": "stdout",
     "output_type": "stream",
     "text": [
      "High-level statistics:\n",
      "\n",
      "Total images: 1801\n",
      "Categories: 2\n",
      "Annotations: 1651\n",
      "Piospheres: 861\n",
      "Water tanks: 790\n",
      "Empty images: 1033\n"
     ]
    }
   ],
   "source": [
    "print('High-level statistics:\\n')\n",
    "print('Total images: '+str(len(images)))\n",
    "print('Categories: '+str(len(categories)))\n",
    "print('Annotations: '+str(len(annotations)))\n",
    "print('Piospheres: '+str(len([ann['id'] for ann in annotations if ann['category_id'] == 0])))\n",
    "print('Water tanks: '+str(len([ann['id'] for ann in annotations if ann['category_id'] == 1])))\n",
    "print('Empty images: 1033')"
   ]
  },
  {
   "cell_type": "code",
   "execution_count": 28,
   "metadata": {
    "scrolled": false
   },
   "outputs": [],
   "source": [
    "#find a file ends with .png in Piosphere images\n",
    "import os\n",
    "x = os.listdir(r\"/mnt/c/Users/rache/Dropbox/Doctoral Projects/CV4Ecology 2022/Final Images/Obsolete/Piospheres\")\n",
    "\n",
    "# Name list\n",
    "namelist = []\n",
    "for i in x:\n",
    "    if i.endswith(\".png\"):\n",
    "        namelist.append(i)\n",
    "        \n",
    "# Look at list\n",
    "#namelist"
   ]
  },
  {
   "cell_type": "code",
   "execution_count": 29,
   "metadata": {},
   "outputs": [
    {
     "name": "stdout",
     "output_type": "stream",
     "text": [
      "32\n"
     ]
    }
   ],
   "source": [
    "# Set up some empty lists for storing information\n",
    "dateList = []\n",
    "sensorList = []\n",
    "resolutionList = []\n",
    "\n",
    "for i in range(0,len(namelist)):\n",
    "  thisName = namelist[i]\n",
    "  thisName = thisName.replace('.png','')\n",
    "  splitName = thisName.split(\"_\")\n",
    "  dateList.append(splitName[5])\n",
    "  sensorList.append(splitName[0])\n",
    "  resolutionList.append(splitName[4])\n",
    "\n",
    "# Find number of unique dates\n",
    "uniqueDates = len(np.unique(dateList))\n",
    "print(uniqueDates)"
   ]
  },
  {
   "cell_type": "code",
   "execution_count": 30,
   "metadata": {},
   "outputs": [
    {
     "data": {
      "text/plain": [
       "20190711    121\n",
       "20190831     85\n",
       "20190829     76\n",
       "20190731     58\n",
       "20190718     55\n",
       "20190723     54\n",
       "20190828     46\n",
       "20190913     42\n",
       "20190812     32\n",
       "20190901     25\n",
       "20190803     23\n",
       "20190821     19\n",
       "20190710     18\n",
       "20190712     15\n",
       "20190813     14\n",
       "20190726     11\n",
       "20190725     11\n",
       "20190825     10\n",
       "20190719      9\n",
       "20190824      9\n",
       "20190720      6\n",
       "20190709      6\n",
       "20190728      4\n",
       "20190826      3\n",
       "20190819      3\n",
       "20190806      3\n",
       "20190914      3\n",
       "20190827      2\n",
       "20190722      2\n",
       "20190729      1\n",
       "20190926      1\n",
       "20190902      1\n",
       "dtype: int64"
      ]
     },
     "execution_count": 30,
     "metadata": {},
     "output_type": "execute_result"
    }
   ],
   "source": [
    "# Get summary information of list\n",
    "dateSeries = pd.Series(dateList)\n",
    "ind = dateSeries.value_counts()\n",
    "ind"
   ]
  },
  {
   "cell_type": "code",
   "execution_count": 31,
   "metadata": {
    "scrolled": false
   },
   "outputs": [],
   "source": [
    "#find a file ends with .png in Nonpiosphere images\n",
    "import os\n",
    "x = os.listdir(r\"/mnt/c/Users/rache/Dropbox/Doctoral Projects/CV4Ecology 2022/Final Images/Obsolete/Nonpiospheres\")\n",
    "\n",
    "# Name list\n",
    "namelist1 = []\n",
    "for i in x:\n",
    "    if i.endswith(\".png\"):\n",
    "        namelist1.append(i)\n",
    "        \n",
    "# Look at list\n",
    "#namelist"
   ]
  },
  {
   "cell_type": "code",
   "execution_count": 32,
   "metadata": {},
   "outputs": [
    {
     "name": "stdout",
     "output_type": "stream",
     "text": [
      "32\n"
     ]
    }
   ],
   "source": [
    "# Set up some empty lists for storing information\n",
    "dateList1 = []\n",
    "sensorList1 = []\n",
    "resolutionList1 = []\n",
    "\n",
    "for i in range(0,len(namelist1)):\n",
    "  thisName = namelist1[i]\n",
    "  thisName = thisName.replace('.png','')\n",
    "  splitName = thisName.split(\"_\")\n",
    "  dateList1.append(splitName[5])\n",
    "  sensorList1.append(splitName[0])\n",
    "  resolutionList1.append(splitName[4])\n",
    "\n",
    "# Find number of unique dates\n",
    "uniqueDates1 = len(np.unique(dateList1))\n",
    "print(uniqueDates)"
   ]
  },
  {
   "cell_type": "code",
   "execution_count": 33,
   "metadata": {},
   "outputs": [
    {
     "data": {
      "text/plain": [
       "20190812    73\n",
       "20190711    71\n",
       "20190826    71\n",
       "20190723    70\n",
       "20190718    70\n",
       "20190813    50\n",
       "20190828    50\n",
       "20190827    46\n",
       "20190829    46\n",
       "20190728    40\n",
       "20190913    35\n",
       "20190719    35\n",
       "20190712    35\n",
       "20190710    33\n",
       "20190831    29\n",
       "20190709    26\n",
       "20190722    24\n",
       "20190720    23\n",
       "20190818    19\n",
       "20190802    18\n",
       "20190815    17\n",
       "20190729    16\n",
       "20190819    15\n",
       "20190821    14\n",
       "20190803    14\n",
       "20190901    12\n",
       "20190806     9\n",
       "20190809     8\n",
       "20190725     8\n",
       "20190731     7\n",
       "20190814     6\n",
       "20190902     6\n",
       "20190914     6\n",
       "20190825     6\n",
       "20190726     5\n",
       "20190805     5\n",
       "20190924     4\n",
       "20190824     4\n",
       "20190918     3\n",
       "20190919     2\n",
       "20190926     1\n",
       "20191003     1\n",
       "dtype: int64"
      ]
     },
     "execution_count": 33,
     "metadata": {},
     "output_type": "execute_result"
    }
   ],
   "source": [
    "# Get summary information of list\n",
    "dateSeries1 = pd.Series(dateList1)\n",
    "ind1 = dateSeries1.value_counts()\n",
    "ind1"
   ]
  },
  {
   "cell_type": "code",
   "execution_count": 59,
   "metadata": {
    "scrolled": true
   },
   "outputs": [
    {
     "data": {
      "text/plain": [
       "Index(['20190731', '20190710', '20190725', '20190728', '20190718', '20190913',\n",
       "       '20190720', '20190825', '20190831', '20190821', '20190726', '20190719',\n",
       "       '20190812', '20190803', '20190806', '20190711', '20190827', '20190712',\n",
       "       '20190826', '20190813', '20190722', '20190829', '20190723', '20190901',\n",
       "       '20190824', '20190819', '20190902', '20190709', '20190828', '20190914',\n",
       "       '20190729', '20190926', '20190814', '20190802', '20190924', '20190919',\n",
       "       '20190805', '20190815', '20191003', '20190918', '20190818', '20190809'],\n",
       "      dtype='object')"
      ]
     },
     "execution_count": 59,
     "metadata": {},
     "output_type": "execute_result"
    }
   ],
   "source": [
    "# Compare dates between labeled and unlabeled data--concatenate lists and count repeats\n",
    "alldates = list(set(dateList)) + list(set(dateList1))\n",
    "\n",
    "# Get summary information of complete list\n",
    "alldates_series = pd.Series(alldates)\n",
    "finalIndex = alldates_series.value_counts()\n",
    "finalIndex.index"
   ]
  },
  {
   "cell_type": "code",
   "execution_count": 68,
   "metadata": {
    "colab": {
     "base_uri": "https://localhost:8080/",
     "height": 490
    },
    "id": "Y3rauq_cR6T6",
    "outputId": "59565122-77d9-4761-b3eb-e6321f33c2fc"
   },
   "outputs": [
    {
     "data": {
      "image/png": "[encoded data removed]",
      "text/plain": [
       "<Figure size 432x288 with 1 Axes>"
      ]
     },
     "metadata": {
      "needs_background": "light"
     },
     "output_type": "display_data"
    }
   ],
   "source": [
    "plt.bar(sorted(finalIndex.index),finalIndex[sorted(finalIndex.index)],edgecolor = 'b', log=True)\n",
    "plt.xlabel('Date')\n",
    "plt.ylabel('Number of images')\n",
    "plt.title('Labeled images per date')\n",
    "plt.grid(visible=None)\n",
    "plt.tight_layout()\n",
    "plt.tick_params(axis='x', which='both', bottom=True, top=False)\n",
    "plt.tick_params(axis='y', which='both', right=False, left=True)\n",
    "plt.show()"
   ]
  }
 ],
 "metadata": {
  "colab": {
   "name": "CV4Ecology_Assignment0.ipynb",
   "provenance": []
  },
  "kernelspec": {
   "display_name": "Python 3 (ipykernel)",
   "language": "python",
   "name": "python3"
  },
  "language_info": {
   "codemirror_mode": {
    "name": "ipython",
    "version": 3
   },
   "file_extension": ".py",
   "mimetype": "text/x-python",
   "name": "python",
   "nbconvert_exporter": "python",
   "pygments_lexer": "ipython3",
   "version": "3.9.12"
  }
 },
 "nbformat": 4,
 "nbformat_minor": 1
}
